{
 "cells": [
  {
   "cell_type": "markdown",
   "metadata": {},
   "source": [
    "# Project Description"
   ]
  },
  {
   "cell_type": "markdown",
   "metadata": {},
   "source": [
    " The goal of this project was to create an interactive chat bot that will tell and listen to jokes based on the input of the user. The name of this bot is JokeBot! The bot understands a variety of jokes, ranging from knock knock jokes, to walk into bar jokes, even to what do you call jokes. The bots main joke it tells are something I like to call \"Dad jokes\". You can start the conversation with a variety of different greetings, and once you are finished chatting, type 'quit'.\n",
    " \n",
    "The reason for doing this is to create a fun and entertaining experience for someone who is bored or looking to further understand how chatbots function. There are a variety of different functions placed into this code that detect certain phrases from the user and will respond with the appropriate response.\n",
    "\n",
    "The concept for this bot came from the A3: chatbots assignment, however, I added 5 new original functions to the pre-existing code. There are also very distinct input/output prompts in order to match the theme of the Bot. Thanks for a great quarter and I hope you have fun with JokeBot!"
   ]
  },
  {
   "cell_type": "markdown",
   "metadata": {},
   "source": [
    "## Project Code\n",
    "\n",
    "If it makes sense for your project, you can have code and outputs here in the notebook as well."
   ]
  },
  {
   "cell_type": "code",
   "execution_count": 1,
   "metadata": {
    "scrolled": true
   },
   "outputs": [],
   "source": [
    "from my_module.functions import *"
   ]
  },
  {
   "cell_type": "code",
   "execution_count": 2,
   "metadata": {},
   "outputs": [],
   "source": [
    "from my_module.test_functions import *"
   ]
  },
  {
   "cell_type": "code",
   "execution_count": 4,
   "metadata": {},
   "outputs": [
    {
     "name": "stdout",
     "output_type": "stream",
     "text": [
      "INPUT :\tquit\n",
      "OUTPUT: Bye!\n"
     ]
    }
   ],
   "source": [
    "# Run this cell in order to talk to the chatbot\n",
    "# Type quit when finished\n",
    "\n",
    "lets_chat()"
   ]
  },
  {
   "cell_type": "code",
   "execution_count": 3,
   "metadata": {
    "scrolled": true
   },
   "outputs": [],
   "source": [
    "# test it out"
   ]
  },
  {
   "cell_type": "code",
   "execution_count": 10,
   "metadata": {
    "scrolled": false
   },
   "outputs": [],
   "source": [
    "# NOTE ABOUT PYTEST: I cannot get it to work in this module, however, it worked in a\n",
    "# seperate notebook on juptyer, Geoff said this simply might be a problem with jupyter\n",
    "# not in my code/directory so he said that since y'all are testing in the terminal that\n",
    "# as long as it works somewhere I should be okay... I can show evidence that it worked in a\n",
    "# seperate notebook if needed, otherwise, this is what I wrote:\n",
    "\n",
    "\n",
    "# !pytest ~/Desktop/ProjectTemplate/my_module/test_functions.py"
   ]
  },
  {
   "cell_type": "markdown",
   "metadata": {},
   "source": [
    "#### Extra Credit (*optional*)\n",
    "\n",
    "Replace all of this text with a brief explanation (~3 sentences) of: \n",
    "1. I had no python background prior to this class.\n",
    "2. I learned how to implement monkeypatch to run my tests. The reasoning for using monkeypatch is to enable testing via pytest when expecting a user input. Rather than placing user input in the input for a function, you use monkey patch and assert a test based on what the input might be. By teaching myself how to use monkeypatch as an easier way to test functions, I believe that I went beyond expectation. I used this website to teach myself: https://www.linuxjournal.com/content/testing-your-code-pythons-pytest-part-ii"
   ]
  }
 ],
 "metadata": {
  "kernelspec": {
   "display_name": "Python 3",
   "language": "python",
   "name": "python3"
  },
  "language_info": {
   "codemirror_mode": {
    "name": "ipython",
    "version": 3
   },
   "file_extension": ".py",
   "mimetype": "text/x-python",
   "name": "python",
   "nbconvert_exporter": "python",
   "pygments_lexer": "ipython3",
   "version": "3.7.6"
  }
 },
 "nbformat": 4,
 "nbformat_minor": 2
}
